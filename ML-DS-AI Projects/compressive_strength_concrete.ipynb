{
  "nbformat": 4,
  "nbformat_minor": 0,
  "metadata": {
    "colab": {
      "name": "model training.ipynb",
      "provenance": []
    },
    "kernelspec": {
      "name": "python3",
      "display_name": "Python 3"
    },
    "language_info": {
      "name": "python"
    }
  },
  "cells": [
    {
      "cell_type": "markdown",
      "metadata": {
        "id": "syGVYilg0Wt4"
      },
      "source": [
        "# Determining Compressive Strength of Concrete"
      ]
    },
    {
      "cell_type": "markdown",
      "metadata": {
        "id": "zH2V8FxBxuMc"
      },
      "source": [
        "# Training"
      ]
    },
    {
      "cell_type": "code",
      "metadata": {
        "id": "xwREiDeO_j-U"
      },
      "source": [
        "import pandas as pd\n",
        "import numpy as np\n",
        "import seaborn as sns\n",
        "import matplotlib.pyplot as plt"
      ],
      "execution_count": null,
      "outputs": []
    },
    {
      "cell_type": "code",
      "metadata": {
        "colab": {
          "base_uri": "https://localhost:8080/",
          "height": 223
        },
        "id": "R9ilWMs0F4L5",
        "outputId": "9c23677a-dcd1-475a-f6ce-b02782703712"
      },
      "source": [
        "df = pd.read_excel('data.xlsx')\n",
        "df.head()"
      ],
      "execution_count": null,
      "outputs": [
        {
          "output_type": "execute_result",
          "data": {
            "text/html": [
              "<div>\n",
              "<style scoped>\n",
              "    .dataframe tbody tr th:only-of-type {\n",
              "        vertical-align: middle;\n",
              "    }\n",
              "\n",
              "    .dataframe tbody tr th {\n",
              "        vertical-align: top;\n",
              "    }\n",
              "\n",
              "    .dataframe thead th {\n",
              "        text-align: right;\n",
              "    }\n",
              "</style>\n",
              "<table border=\"1\" class=\"dataframe\">\n",
              "  <thead>\n",
              "    <tr style=\"text-align: right;\">\n",
              "      <th></th>\n",
              "      <th>CEMENT_RATIO</th>\n",
              "      <th>FINE_AGGREGATE_RATIO</th>\n",
              "      <th>COARSE_AGGREGATE_RATIO</th>\n",
              "      <th>FLY_ASH_RATIO</th>\n",
              "      <th>WC_RATIO</th>\n",
              "      <th>CONCRETE_GRADE</th>\n",
              "      <th>COMPRESSIVE_STRENGTH</th>\n",
              "    </tr>\n",
              "  </thead>\n",
              "  <tbody>\n",
              "    <tr>\n",
              "      <th>0</th>\n",
              "      <td>1</td>\n",
              "      <td>1.58</td>\n",
              "      <td>3.05</td>\n",
              "      <td>0.0</td>\n",
              "      <td>0.53</td>\n",
              "      <td>M25</td>\n",
              "      <td>36.84</td>\n",
              "    </tr>\n",
              "    <tr>\n",
              "      <th>1</th>\n",
              "      <td>1</td>\n",
              "      <td>1.43</td>\n",
              "      <td>2.82</td>\n",
              "      <td>0.0</td>\n",
              "      <td>0.50</td>\n",
              "      <td>M30</td>\n",
              "      <td>43.13</td>\n",
              "    </tr>\n",
              "    <tr>\n",
              "      <th>2</th>\n",
              "      <td>1</td>\n",
              "      <td>1.54</td>\n",
              "      <td>2.99</td>\n",
              "      <td>0.0</td>\n",
              "      <td>0.53</td>\n",
              "      <td>M30</td>\n",
              "      <td>38.58</td>\n",
              "    </tr>\n",
              "    <tr>\n",
              "      <th>3</th>\n",
              "      <td>1</td>\n",
              "      <td>1.28</td>\n",
              "      <td>1.58</td>\n",
              "      <td>0.0</td>\n",
              "      <td>0.47</td>\n",
              "      <td>M35</td>\n",
              "      <td>47.16</td>\n",
              "    </tr>\n",
              "    <tr>\n",
              "      <th>4</th>\n",
              "      <td>1</td>\n",
              "      <td>1.39</td>\n",
              "      <td>2.77</td>\n",
              "      <td>0.0</td>\n",
              "      <td>0.49</td>\n",
              "      <td>M35</td>\n",
              "      <td>45.05</td>\n",
              "    </tr>\n",
              "  </tbody>\n",
              "</table>\n",
              "</div>"
            ],
            "text/plain": [
              "   CEMENT_RATIO  FINE_AGGREGATE_RATIO  ...  CONCRETE_GRADE  COMPRESSIVE_STRENGTH \n",
              "0             1                  1.58  ...             M25                  36.84\n",
              "1             1                  1.43  ...             M30                  43.13\n",
              "2             1                  1.54  ...             M30                  38.58\n",
              "3             1                  1.28  ...             M35                  47.16\n",
              "4             1                  1.39  ...             M35                  45.05\n",
              "\n",
              "[5 rows x 7 columns]"
            ]
          },
          "metadata": {
            "tags": []
          },
          "execution_count": 6
        }
      ]
    },
    {
      "cell_type": "code",
      "metadata": {
        "colab": {
          "base_uri": "https://localhost:8080/"
        },
        "id": "DQqXl_qQHNBM",
        "outputId": "c8babf22-5b12-4ad6-fa83-9fbffe402162"
      },
      "source": [
        "df.columns"
      ],
      "execution_count": null,
      "outputs": [
        {
          "output_type": "execute_result",
          "data": {
            "text/plain": [
              "Index(['CEMENT_RATIO', 'FINE_AGGREGATE_RATIO', 'COARSE_AGGREGATE_RATIO',\n",
              "       'FLY_ASH_RATIO', 'WC_RATIO', 'CONCRETE_GRADE', 'COMPRESSIVE_STRENGTH '],\n",
              "      dtype='object')"
            ]
          },
          "metadata": {
            "tags": []
          },
          "execution_count": 7
        }
      ]
    },
    {
      "cell_type": "code",
      "metadata": {
        "id": "zm5l76a9HRYg"
      },
      "source": [
        "X = df[['CEMENT_RATIO', 'FINE_AGGREGATE_RATIO', 'COARSE_AGGREGATE_RATIO',\n",
        "       'FLY_ASH_RATIO', 'WC_RATIO', 'CONCRETE_GRADE']]"
      ],
      "execution_count": null,
      "outputs": []
    },
    {
      "cell_type": "code",
      "metadata": {
        "colab": {
          "base_uri": "https://localhost:8080/",
          "height": 438
        },
        "id": "VSjkn_QnGRNr",
        "outputId": "6b585021-c1e4-4837-9fb5-4b99b174cc23"
      },
      "source": [
        "X = pd.get_dummies(data=X, drop_first=True)\n",
        "X"
      ],
      "execution_count": null,
      "outputs": [
        {
          "output_type": "execute_result",
          "data": {
            "text/html": [
              "<div>\n",
              "<style scoped>\n",
              "    .dataframe tbody tr th:only-of-type {\n",
              "        vertical-align: middle;\n",
              "    }\n",
              "\n",
              "    .dataframe tbody tr th {\n",
              "        vertical-align: top;\n",
              "    }\n",
              "\n",
              "    .dataframe thead th {\n",
              "        text-align: right;\n",
              "    }\n",
              "</style>\n",
              "<table border=\"1\" class=\"dataframe\">\n",
              "  <thead>\n",
              "    <tr style=\"text-align: right;\">\n",
              "      <th></th>\n",
              "      <th>CEMENT_RATIO</th>\n",
              "      <th>FINE_AGGREGATE_RATIO</th>\n",
              "      <th>COARSE_AGGREGATE_RATIO</th>\n",
              "      <th>FLY_ASH_RATIO</th>\n",
              "      <th>WC_RATIO</th>\n",
              "      <th>CONCRETE_GRADE_M25</th>\n",
              "      <th>CONCRETE_GRADE_M30</th>\n",
              "      <th>CONCRETE_GRADE_M35</th>\n",
              "      <th>CONCRETE_GRADE_M40</th>\n",
              "      <th>CONCRETE_GRADE_M45</th>\n",
              "    </tr>\n",
              "  </thead>\n",
              "  <tbody>\n",
              "    <tr>\n",
              "      <th>0</th>\n",
              "      <td>1</td>\n",
              "      <td>1.58</td>\n",
              "      <td>3.05</td>\n",
              "      <td>0.0</td>\n",
              "      <td>0.53</td>\n",
              "      <td>1</td>\n",
              "      <td>0</td>\n",
              "      <td>0</td>\n",
              "      <td>0</td>\n",
              "      <td>0</td>\n",
              "    </tr>\n",
              "    <tr>\n",
              "      <th>1</th>\n",
              "      <td>1</td>\n",
              "      <td>1.43</td>\n",
              "      <td>2.82</td>\n",
              "      <td>0.0</td>\n",
              "      <td>0.50</td>\n",
              "      <td>0</td>\n",
              "      <td>1</td>\n",
              "      <td>0</td>\n",
              "      <td>0</td>\n",
              "      <td>0</td>\n",
              "    </tr>\n",
              "    <tr>\n",
              "      <th>2</th>\n",
              "      <td>1</td>\n",
              "      <td>1.54</td>\n",
              "      <td>2.99</td>\n",
              "      <td>0.0</td>\n",
              "      <td>0.53</td>\n",
              "      <td>0</td>\n",
              "      <td>1</td>\n",
              "      <td>0</td>\n",
              "      <td>0</td>\n",
              "      <td>0</td>\n",
              "    </tr>\n",
              "    <tr>\n",
              "      <th>3</th>\n",
              "      <td>1</td>\n",
              "      <td>1.28</td>\n",
              "      <td>1.58</td>\n",
              "      <td>0.0</td>\n",
              "      <td>0.47</td>\n",
              "      <td>0</td>\n",
              "      <td>0</td>\n",
              "      <td>1</td>\n",
              "      <td>0</td>\n",
              "      <td>0</td>\n",
              "    </tr>\n",
              "    <tr>\n",
              "      <th>4</th>\n",
              "      <td>1</td>\n",
              "      <td>1.39</td>\n",
              "      <td>2.77</td>\n",
              "      <td>0.0</td>\n",
              "      <td>0.49</td>\n",
              "      <td>0</td>\n",
              "      <td>0</td>\n",
              "      <td>1</td>\n",
              "      <td>0</td>\n",
              "      <td>0</td>\n",
              "    </tr>\n",
              "    <tr>\n",
              "      <th>...</th>\n",
              "      <td>...</td>\n",
              "      <td>...</td>\n",
              "      <td>...</td>\n",
              "      <td>...</td>\n",
              "      <td>...</td>\n",
              "      <td>...</td>\n",
              "      <td>...</td>\n",
              "      <td>...</td>\n",
              "      <td>...</td>\n",
              "      <td>...</td>\n",
              "    </tr>\n",
              "    <tr>\n",
              "      <th>125</th>\n",
              "      <td>1</td>\n",
              "      <td>1.06</td>\n",
              "      <td>2.23</td>\n",
              "      <td>0.0</td>\n",
              "      <td>0.41</td>\n",
              "      <td>0</td>\n",
              "      <td>0</td>\n",
              "      <td>0</td>\n",
              "      <td>0</td>\n",
              "      <td>1</td>\n",
              "    </tr>\n",
              "    <tr>\n",
              "      <th>126</th>\n",
              "      <td>1</td>\n",
              "      <td>1.05</td>\n",
              "      <td>1.91</td>\n",
              "      <td>0.0</td>\n",
              "      <td>0.39</td>\n",
              "      <td>0</td>\n",
              "      <td>0</td>\n",
              "      <td>0</td>\n",
              "      <td>0</td>\n",
              "      <td>1</td>\n",
              "    </tr>\n",
              "    <tr>\n",
              "      <th>127</th>\n",
              "      <td>1</td>\n",
              "      <td>1.28</td>\n",
              "      <td>2.03</td>\n",
              "      <td>0.0</td>\n",
              "      <td>0.40</td>\n",
              "      <td>0</td>\n",
              "      <td>0</td>\n",
              "      <td>0</td>\n",
              "      <td>0</td>\n",
              "      <td>1</td>\n",
              "    </tr>\n",
              "    <tr>\n",
              "      <th>128</th>\n",
              "      <td>1</td>\n",
              "      <td>1.00</td>\n",
              "      <td>1.89</td>\n",
              "      <td>0.0</td>\n",
              "      <td>0.41</td>\n",
              "      <td>0</td>\n",
              "      <td>0</td>\n",
              "      <td>0</td>\n",
              "      <td>0</td>\n",
              "      <td>1</td>\n",
              "    </tr>\n",
              "    <tr>\n",
              "      <th>129</th>\n",
              "      <td>1</td>\n",
              "      <td>1.11</td>\n",
              "      <td>2.41</td>\n",
              "      <td>0.0</td>\n",
              "      <td>0.44</td>\n",
              "      <td>0</td>\n",
              "      <td>0</td>\n",
              "      <td>0</td>\n",
              "      <td>1</td>\n",
              "      <td>0</td>\n",
              "    </tr>\n",
              "  </tbody>\n",
              "</table>\n",
              "<p>130 rows × 10 columns</p>\n",
              "</div>"
            ],
            "text/plain": [
              "     CEMENT_RATIO  FINE_AGGREGATE_RATIO  ...  CONCRETE_GRADE_M40  CONCRETE_GRADE_M45\n",
              "0               1                  1.58  ...                   0                   0\n",
              "1               1                  1.43  ...                   0                   0\n",
              "2               1                  1.54  ...                   0                   0\n",
              "3               1                  1.28  ...                   0                   0\n",
              "4               1                  1.39  ...                   0                   0\n",
              "..            ...                   ...  ...                 ...                 ...\n",
              "125             1                  1.06  ...                   0                   1\n",
              "126             1                  1.05  ...                   0                   1\n",
              "127             1                  1.28  ...                   0                   1\n",
              "128             1                  1.00  ...                   0                   1\n",
              "129             1                  1.11  ...                   1                   0\n",
              "\n",
              "[130 rows x 10 columns]"
            ]
          },
          "metadata": {
            "tags": []
          },
          "execution_count": 9
        }
      ]
    },
    {
      "cell_type": "code",
      "metadata": {
        "colab": {
          "base_uri": "https://localhost:8080/"
        },
        "id": "NN2zkNtmGpP4",
        "outputId": "f95294c1-c218-4100-c582-9cf0d8bade45"
      },
      "source": [
        "Y = df['COMPRESSIVE_STRENGTH ']\n",
        "Y"
      ],
      "execution_count": null,
      "outputs": [
        {
          "output_type": "execute_result",
          "data": {
            "text/plain": [
              "0      36.84\n",
              "1      43.13\n",
              "2      38.58\n",
              "3      47.16\n",
              "4      45.05\n",
              "       ...  \n",
              "125    54.40\n",
              "126    55.04\n",
              "127    54.67\n",
              "128    54.05\n",
              "129    49.70\n",
              "Name: COMPRESSIVE_STRENGTH , Length: 130, dtype: float64"
            ]
          },
          "metadata": {
            "tags": []
          },
          "execution_count": 11
        }
      ]
    },
    {
      "cell_type": "code",
      "metadata": {
        "colab": {
          "base_uri": "https://localhost:8080/"
        },
        "id": "yo7P-xguHD-C",
        "outputId": "7810a4c9-4182-4291-fc18-f78016d61e8f"
      },
      "source": [
        "from sklearn.model_selection import train_test_split\n",
        " \n",
        "X_train, X_test, y_train, y_test = train_test_split(X, Y, test_size=0.1, random_state=101, shuffle=True)\n",
        " \n",
        "print(X_train.shape)\n",
        "print(X_test.shape)\n",
        "print(y_train.shape)\n",
        "print(y_test.shape)"
      ],
      "execution_count": null,
      "outputs": [
        {
          "output_type": "stream",
          "text": [
            "(117, 10)\n",
            "(13, 10)\n",
            "(117,)\n",
            "(13,)\n"
          ],
          "name": "stdout"
        }
      ]
    },
    {
      "cell_type": "code",
      "metadata": {
        "colab": {
          "base_uri": "https://localhost:8080/"
        },
        "id": "rG0mOGETJDuI",
        "outputId": "9ccc7483-d31e-404c-9dc7-cdd7c200479e"
      },
      "source": [
        "from sklearn.linear_model import LinearRegression\n",
        "model = LinearRegression()\n",
        "model.fit(X_train,y_train)"
      ],
      "execution_count": null,
      "outputs": [
        {
          "output_type": "execute_result",
          "data": {
            "text/plain": [
              "LinearRegression(copy_X=True, fit_intercept=True, n_jobs=None, normalize=False)"
            ]
          },
          "metadata": {
            "tags": []
          },
          "execution_count": 13
        }
      ]
    },
    {
      "cell_type": "code",
      "metadata": {
        "colab": {
          "base_uri": "https://localhost:8080/"
        },
        "id": "WCXGIm3YJIaI",
        "outputId": "376c3c15-4d17-4fa1-d21d-e25481e2aec1"
      },
      "source": [
        "# print the intercept\n",
        "print(model.intercept_)"
      ],
      "execution_count": null,
      "outputs": [
        {
          "output_type": "stream",
          "text": [
            "37.85778658143859\n"
          ],
          "name": "stdout"
        }
      ]
    },
    {
      "cell_type": "code",
      "metadata": {
        "colab": {
          "base_uri": "https://localhost:8080/"
        },
        "id": "xiSRsA_aJPLD",
        "outputId": "def13ba5-1cc8-4158-a3a5-9a3133361b68"
      },
      "source": [
        "predictions = model.predict(X_test)\n",
        "predictions"
      ],
      "execution_count": null,
      "outputs": [
        {
          "output_type": "execute_result",
          "data": {
            "text/plain": [
              "array([50.03425497, 40.58261732, 30.037811  , 33.9635424 , 54.46004199,\n",
              "       34.75857572, 45.65578286, 45.67923019, 33.06642921, 40.38589534,\n",
              "       45.41382754, 40.82200633, 51.02136942])"
            ]
          },
          "metadata": {
            "tags": []
          },
          "execution_count": 15
        }
      ]
    },
    {
      "cell_type": "code",
      "metadata": {
        "colab": {
          "base_uri": "https://localhost:8080/",
          "height": 305
        },
        "id": "aTJCAOVfJXJY",
        "outputId": "c9f2dfba-142d-4295-a95f-60e48f599c1d"
      },
      "source": [
        "sns.regplot(y_test,predictions)"
      ],
      "execution_count": null,
      "outputs": [
        {
          "output_type": "stream",
          "text": [
            "/usr/local/lib/python3.7/dist-packages/seaborn/_decorators.py:43: FutureWarning: Pass the following variables as keyword args: x, y. From version 0.12, the only valid positional argument will be `data`, and passing other arguments without an explicit keyword will result in an error or misinterpretation.\n",
            "  FutureWarning\n"
          ],
          "name": "stderr"
        },
        {
          "output_type": "execute_result",
          "data": {
            "text/plain": [
              "<matplotlib.axes._subplots.AxesSubplot at 0x7fbb99baf0d0>"
            ]
          },
          "metadata": {
            "tags": []
          },
          "execution_count": 16
        },
        {
          "output_type": "display_data",
          "data": {
            "image/png": "[encoded data removed]",
            "text/plain": [
              "<Figure size 432x288 with 1 Axes>"
            ]
          },
          "metadata": {
            "tags": [],
            "needs_background": "light"
          }
        }
      ]
    },
    {
      "cell_type": "code",
      "metadata": {
        "colab": {
          "base_uri": "https://localhost:8080/"
        },
        "id": "U6X50_A8tPIV",
        "outputId": "64f06e17-bfa8-4459-83b2-ede8f9f66de4"
      },
      "source": [
        "model.score(X_test, y_test) * 100"
      ],
      "execution_count": null,
      "outputs": [
        {
          "output_type": "execute_result",
          "data": {
            "text/plain": [
              "94.73455293011999"
            ]
          },
          "metadata": {
            "tags": []
          },
          "execution_count": 17
        }
      ]
    },
    {
      "cell_type": "code",
      "metadata": {
        "id": "C1KrPMKgOZrc"
      },
      "source": [
        "import pickle"
      ],
      "execution_count": null,
      "outputs": []
    },
    {
      "cell_type": "code",
      "metadata": {
        "id": "TE63jj8B_-AL"
      },
      "source": [
        "with open('model.pkl', 'wb') as f:\n",
        "  pickle.dump(model, f)"
      ],
      "execution_count": null,
      "outputs": []
    },
    {
      "cell_type": "code",
      "metadata": {
        "id": "D_YliAGgTNf-"
      },
      "source": [
        ""
      ],
      "execution_count": null,
      "outputs": []
    },
    {
      "cell_type": "code",
      "metadata": {
        "id": "8PPmwicETOJg"
      },
      "source": [
        ""
      ],
      "execution_count": null,
      "outputs": []
    },
    {
      "cell_type": "code",
      "metadata": {
        "colab": {
          "base_uri": "https://localhost:8080/"
        },
        "id": "498wBIRQlNrr",
        "outputId": "2131d669-fd36-489b-dc36-8c76059f2114"
      },
      "source": [
        "grades = list(df['CONCRETE_GRADE'].unique())\n",
        "grades"
      ],
      "execution_count": null,
      "outputs": [
        {
          "output_type": "execute_result",
          "data": {
            "text/plain": [
              "['M25', 'M30', 'M35', 'M40', 'M45', 'M20']"
            ]
          },
          "metadata": {
            "tags": []
          },
          "execution_count": 20
        }
      ]
    },
    {
      "cell_type": "code",
      "metadata": {
        "colab": {
          "base_uri": "https://localhost:8080/",
          "height": 418
        },
        "id": "LMH1IV_OlN0l",
        "outputId": "275f00b8-8c33-4c4b-fdea-a00dce6135e0"
      },
      "source": [
        "grade = df['CONCRETE_GRADE']\n",
        "grade = pd.get_dummies(data=grade, drop_first=True)\n",
        "grade"
      ],
      "execution_count": null,
      "outputs": [
        {
          "output_type": "execute_result",
          "data": {
            "text/html": [
              "<div>\n",
              "<style scoped>\n",
              "    .dataframe tbody tr th:only-of-type {\n",
              "        vertical-align: middle;\n",
              "    }\n",
              "\n",
              "    .dataframe tbody tr th {\n",
              "        vertical-align: top;\n",
              "    }\n",
              "\n",
              "    .dataframe thead th {\n",
              "        text-align: right;\n",
              "    }\n",
              "</style>\n",
              "<table border=\"1\" class=\"dataframe\">\n",
              "  <thead>\n",
              "    <tr style=\"text-align: right;\">\n",
              "      <th></th>\n",
              "      <th>M25</th>\n",
              "      <th>M30</th>\n",
              "      <th>M35</th>\n",
              "      <th>M40</th>\n",
              "      <th>M45</th>\n",
              "    </tr>\n",
              "  </thead>\n",
              "  <tbody>\n",
              "    <tr>\n",
              "      <th>0</th>\n",
              "      <td>1</td>\n",
              "      <td>0</td>\n",
              "      <td>0</td>\n",
              "      <td>0</td>\n",
              "      <td>0</td>\n",
              "    </tr>\n",
              "    <tr>\n",
              "      <th>1</th>\n",
              "      <td>0</td>\n",
              "      <td>1</td>\n",
              "      <td>0</td>\n",
              "      <td>0</td>\n",
              "      <td>0</td>\n",
              "    </tr>\n",
              "    <tr>\n",
              "      <th>2</th>\n",
              "      <td>0</td>\n",
              "      <td>1</td>\n",
              "      <td>0</td>\n",
              "      <td>0</td>\n",
              "      <td>0</td>\n",
              "    </tr>\n",
              "    <tr>\n",
              "      <th>3</th>\n",
              "      <td>0</td>\n",
              "      <td>0</td>\n",
              "      <td>1</td>\n",
              "      <td>0</td>\n",
              "      <td>0</td>\n",
              "    </tr>\n",
              "    <tr>\n",
              "      <th>4</th>\n",
              "      <td>0</td>\n",
              "      <td>0</td>\n",
              "      <td>1</td>\n",
              "      <td>0</td>\n",
              "      <td>0</td>\n",
              "    </tr>\n",
              "    <tr>\n",
              "      <th>...</th>\n",
              "      <td>...</td>\n",
              "      <td>...</td>\n",
              "      <td>...</td>\n",
              "      <td>...</td>\n",
              "      <td>...</td>\n",
              "    </tr>\n",
              "    <tr>\n",
              "      <th>125</th>\n",
              "      <td>0</td>\n",
              "      <td>0</td>\n",
              "      <td>0</td>\n",
              "      <td>0</td>\n",
              "      <td>1</td>\n",
              "    </tr>\n",
              "    <tr>\n",
              "      <th>126</th>\n",
              "      <td>0</td>\n",
              "      <td>0</td>\n",
              "      <td>0</td>\n",
              "      <td>0</td>\n",
              "      <td>1</td>\n",
              "    </tr>\n",
              "    <tr>\n",
              "      <th>127</th>\n",
              "      <td>0</td>\n",
              "      <td>0</td>\n",
              "      <td>0</td>\n",
              "      <td>0</td>\n",
              "      <td>1</td>\n",
              "    </tr>\n",
              "    <tr>\n",
              "      <th>128</th>\n",
              "      <td>0</td>\n",
              "      <td>0</td>\n",
              "      <td>0</td>\n",
              "      <td>0</td>\n",
              "      <td>1</td>\n",
              "    </tr>\n",
              "    <tr>\n",
              "      <th>129</th>\n",
              "      <td>0</td>\n",
              "      <td>0</td>\n",
              "      <td>0</td>\n",
              "      <td>1</td>\n",
              "      <td>0</td>\n",
              "    </tr>\n",
              "  </tbody>\n",
              "</table>\n",
              "<p>130 rows × 5 columns</p>\n",
              "</div>"
            ],
            "text/plain": [
              "     M25  M30  M35  M40  M45\n",
              "0      1    0    0    0    0\n",
              "1      0    1    0    0    0\n",
              "2      0    1    0    0    0\n",
              "3      0    0    1    0    0\n",
              "4      0    0    1    0    0\n",
              "..   ...  ...  ...  ...  ...\n",
              "125    0    0    0    0    1\n",
              "126    0    0    0    0    1\n",
              "127    0    0    0    0    1\n",
              "128    0    0    0    0    1\n",
              "129    0    0    0    1    0\n",
              "\n",
              "[130 rows x 5 columns]"
            ]
          },
          "metadata": {
            "tags": []
          },
          "execution_count": 21
        }
      ]
    },
    {
      "cell_type": "code",
      "metadata": {
        "colab": {
          "base_uri": "https://localhost:8080/",
          "height": 254
        },
        "id": "pHQYaWQtlNwb",
        "outputId": "a0919a82-3223-40bc-9bfd-6cfb74e3526c"
      },
      "source": [
        "values = grade.drop_duplicates(ignore_index=True)\n",
        "values"
      ],
      "execution_count": null,
      "outputs": [
        {
          "output_type": "execute_result",
          "data": {
            "text/html": [
              "<div>\n",
              "<style scoped>\n",
              "    .dataframe tbody tr th:only-of-type {\n",
              "        vertical-align: middle;\n",
              "    }\n",
              "\n",
              "    .dataframe tbody tr th {\n",
              "        vertical-align: top;\n",
              "    }\n",
              "\n",
              "    .dataframe thead th {\n",
              "        text-align: right;\n",
              "    }\n",
              "</style>\n",
              "<table border=\"1\" class=\"dataframe\">\n",
              "  <thead>\n",
              "    <tr style=\"text-align: right;\">\n",
              "      <th></th>\n",
              "      <th>M25</th>\n",
              "      <th>M30</th>\n",
              "      <th>M35</th>\n",
              "      <th>M40</th>\n",
              "      <th>M45</th>\n",
              "    </tr>\n",
              "  </thead>\n",
              "  <tbody>\n",
              "    <tr>\n",
              "      <th>0</th>\n",
              "      <td>1</td>\n",
              "      <td>0</td>\n",
              "      <td>0</td>\n",
              "      <td>0</td>\n",
              "      <td>0</td>\n",
              "    </tr>\n",
              "    <tr>\n",
              "      <th>1</th>\n",
              "      <td>0</td>\n",
              "      <td>1</td>\n",
              "      <td>0</td>\n",
              "      <td>0</td>\n",
              "      <td>0</td>\n",
              "    </tr>\n",
              "    <tr>\n",
              "      <th>2</th>\n",
              "      <td>0</td>\n",
              "      <td>0</td>\n",
              "      <td>1</td>\n",
              "      <td>0</td>\n",
              "      <td>0</td>\n",
              "    </tr>\n",
              "    <tr>\n",
              "      <th>3</th>\n",
              "      <td>0</td>\n",
              "      <td>0</td>\n",
              "      <td>0</td>\n",
              "      <td>1</td>\n",
              "      <td>0</td>\n",
              "    </tr>\n",
              "    <tr>\n",
              "      <th>4</th>\n",
              "      <td>0</td>\n",
              "      <td>0</td>\n",
              "      <td>0</td>\n",
              "      <td>0</td>\n",
              "      <td>1</td>\n",
              "    </tr>\n",
              "    <tr>\n",
              "      <th>5</th>\n",
              "      <td>0</td>\n",
              "      <td>0</td>\n",
              "      <td>0</td>\n",
              "      <td>0</td>\n",
              "      <td>0</td>\n",
              "    </tr>\n",
              "  </tbody>\n",
              "</table>\n",
              "</div>"
            ],
            "text/plain": [
              "   M25  M30  M35  M40  M45\n",
              "0    1    0    0    0    0\n",
              "1    0    1    0    0    0\n",
              "2    0    0    1    0    0\n",
              "3    0    0    0    1    0\n",
              "4    0    0    0    0    1\n",
              "5    0    0    0    0    0"
            ]
          },
          "metadata": {
            "tags": []
          },
          "execution_count": 22
        }
      ]
    },
    {
      "cell_type": "code",
      "metadata": {
        "colab": {
          "base_uri": "https://localhost:8080/"
        },
        "id": "AUIspOnRlNuc",
        "outputId": "ff196eb3-5e01-4aa0-dd75-c721236c718c"
      },
      "source": [
        "grade_dict = dict()\n",
        "for i in range(len(grades)):\n",
        "  grade_dict[grades[i]] = list(values.iloc[i])\n",
        "grade_dict"
      ],
      "execution_count": null,
      "outputs": [
        {
          "output_type": "execute_result",
          "data": {
            "text/plain": [
              "{'M20': [0, 0, 0, 0, 0],\n",
              " 'M25': [1, 0, 0, 0, 0],\n",
              " 'M30': [0, 1, 0, 0, 0],\n",
              " 'M35': [0, 0, 1, 0, 0],\n",
              " 'M40': [0, 0, 0, 1, 0],\n",
              " 'M45': [0, 0, 0, 0, 1]}"
            ]
          },
          "metadata": {
            "tags": []
          },
          "execution_count": 23
        }
      ]
    },
    {
      "cell_type": "markdown",
      "metadata": {
        "id": "pU0OYLU9x1oK"
      },
      "source": [
        "# Implementation"
      ]
    },
    {
      "cell_type": "code",
      "metadata": {
        "id": "dBeBmGpMx3qV"
      },
      "source": [
        "import pandas as pd\n",
        "import numpy as np\n",
        "import pickle\n",
        "from scipy.interpolate import make_interp_spline\n",
        "import matplotlib.pyplot as plt\n",
        " \n",
        "concreteGrades = {\n",
        "    'M20': [0, 0, 0, 0, 0],\n",
        " 'M25': [1, 0, 0, 0, 0],\n",
        " 'M30': [0, 1, 0, 0, 0],\n",
        " 'M35': [0, 0, 1, 0, 0],\n",
        " 'M40': [0, 0, 0, 1, 0],\n",
        " 'M45': [0, 0, 0, 0, 1]\n",
        " }\n",
        " \n",
        "wcRatioRanges = {\n",
        "    'M20': (0.55, 0.75),\n",
        "    'M25': (0.5, 0.7),\n",
        "    'M30': (0.45, 0.65),\n",
        "    'M35': (0.4, 0.6),\n",
        "    'M40': (0.35, 0.55),\n",
        "    'M45': (0.3, 0.5),\n",
        " }\n",
        " \n",
        "import urllib.request\n",
        "urllib.request.urlretrieve('https://drive.google.com/uc?export=download&id=13MWkqzwYn39jdHVhhSOgZcbF7LxYkSju', 'model.pkl')\n",
        " \n",
        "#importing the trained model\n",
        "model = pickle.load(open('model.pkl', 'rb'))\n",
        " \n",
        " \n",
        "#input for mix proportion\n",
        " \n",
        "flag = True #a value only for maintaining the loop\n",
        " \n",
        "while(flag):\n",
        "  mixProportion = list(map(float, input(\"Enter the Mix Proportion: \").split(\":\"))) \n",
        "  if len(mixProportion) == 3:\n",
        "    mixProportion.append(0)\n",
        "    flag = False\n",
        "  elif len(mixProportion) == 4:\n",
        "    flag = False\n",
        "  else:\n",
        "    print('Please enter a valid Mix Proportion')\n",
        "    del mixProportion\n",
        " \n",
        "  \n",
        "#input for concrete grade\n",
        " \n",
        "flag = True #a value only for maintaining the loop\n",
        " \n",
        "while(flag):\n",
        "  concreteGrade = input(\"Enter the Concrete Grade: \")\n",
        "  if concreteGrade not in concreteGrades.keys():\n",
        "    print(\"Please enter a valid Concrete Grade between M20 and M55\")\n",
        "    del concreteGrade\n",
        "  else:\n",
        "    flag = False\n",
        " \n",
        " \n",
        "#input for W/C ratio and checking whether it is in the range depending upon the concrete grade\n",
        " \n",
        "flag = True #a value only for maintaining the loop\n",
        " \n",
        "while(flag):\n",
        "  wcRatio = float(input(\"Enter the W/C Ratio (value should be between {} and {}): \".format(wcRatioRanges[concreteGrade][0], wcRatioRanges[concreteGrade][1])))\n",
        "  if (wcRatioRanges[concreteGrade][0] <= wcRatio <= wcRatioRanges[concreteGrade][1]):\n",
        "    flag = False\n",
        "  else:\n",
        "    print(\"Please enter a value in the specified range\")\n",
        "    del wcRatio\n",
        " \n",
        " \n",
        "#setting up values for feeding to the model for prediction\n",
        "val = mixProportion\n",
        "val.append(wcRatio)\n",
        "val.extend(concreteGrades[concreteGrade])\n",
        "val = np.array(val).reshape(1, -1)\n",
        " \n",
        "#predicting the value\n",
        "concreteStrength = model.predict(val)\n",
        " \n",
        "concreteStrength = float(np.round(concreteStrength, 2))\n",
        "print('Concrete Strength: {}MPa'.format(concreteStrength))\n",
        " \n",
        " \n",
        " \n",
        "# Stress vs Strain Graph\n",
        " \n",
        " \n",
        "epsilons = [0, 0.0005, 0.001, 0.0015, 0.002, 0.0025, 0.003]\n",
        "epsilon_0 = 0.002\n",
        "c = 0.8\n",
        "f_ = int(concreteGrade[1:])\n",
        " \n",
        "x = epsilons\n",
        "y = list()\n",
        " \n",
        "for epsilon in epsilons:\n",
        "  fraction = epsilon / epsilon_0\n",
        "  fc = (f_ * c) * ((2 * fraction) - (fraction ** 2))\n",
        "  y.append(fc)\n",
        " \n",
        " \n",
        "x_y = make_interp_spline(x,y)\n",
        "X_ = np.linspace(min(x), max(x), 500)\n",
        "Y_ = x_y(X_)\n",
        " \n",
        "plt.figure(figsize=(12,9))\n",
        "plt.plot(X_,Y_, linewidth=3)\n",
        "plt.title('Stress vs Strain Graph ({})'.format(concreteGrade), weight='bold', fontsize=20)\n",
        "plt.xlabel(\"Strain\", fontsize=15)\n",
        "plt.ylabel(\"Stress (MPa)\", fontsize=15)\n",
        " \n",
        " \n",
        "#scaling the graph\n",
        "scale_factor = 1.25\n",
        " \n",
        "xmin, xmax = plt.xlim()\n",
        "ymin, ymax = plt.ylim()\n",
        " \n",
        "plt.xlim(xmin * scale_factor, xmax * scale_factor)\n",
        "plt.ylim(ymin * scale_factor, ymax * scale_factor)\n",
        " \n",
        "#representing points as dots\n",
        "plt.scatter(x,y, marker='o', linewidths=5)\n",
        "plt.grid()\n",
        " \n",
        "#showing point coordinates\n",
        "for i_x, i_y in zip(x,y):\n",
        "  plt.text(i_x, i_y, '({},{})'.format(i_x, i_y), ha='left')\n",
        "    \n",
        "plt.show()"
      ],
      "execution_count": null,
      "outputs": [
        {
          "output_type": "stream",
          "text": [
            "Enter the Mix Proportion: 1:1.1:2.7:0.15\n",
            "Enter the Concrete Grade: M30\n",
            "Enter the W/C Ratio (value should be between 0.45 and 0.65): 0.45\n",
            "Concrete Strength: 40.95MPa\n"
          ],
          "name": "stdout"
        },
        {
          "output_type": "display_data",
          "data": {
            "image/png": "[encoded data removed]",
            "text/plain": [
              "<Figure size 864x648 with 1 Axes>"
            ]
          },
          "metadata": {
            "tags": [],
            "needs_background": "light"
          }
        }
      ]
    }
  ]
}
